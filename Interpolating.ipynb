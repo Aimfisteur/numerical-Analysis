{
 "cells": [
  {
   "cell_type": "markdown",
   "id": "4e0ca4d8",
   "metadata": {},
   "source": [
    "# interpolation"
   ]
  },
  {
   "cell_type": "raw",
   "id": "aaad436e",
   "metadata": {},
   "source": [
    "newton interpolation"
   ]
  },
  {
   "cell_type": "code",
   "execution_count": 11,
   "id": "52af9804",
   "metadata": {},
   "outputs": [],
   "source": [
    "import numpy as np\n",
    "import matplotlib.pyplot as plt\n",
    "def divided_diff(x, y):\n",
    "    '''\n",
    "    function to calculate the divided\n",
    "    differences table\n",
    "    '''\n",
    "    n = len(y)\n",
    "    coef = np.zeros([n, n])\n",
    "    # the first column is y\n",
    "    coef[:,0] = y\n",
    "    \n",
    "    for j in range(1,n):\n",
    "        for i in range(n-j):\n",
    "            coef[i][j] = \\\n",
    "           (coef[i+1][j-1] - coef[i][j-1]) / (x[i+j]-x[i])\n",
    "    \n",
    "    return coef\n",
    "\n",
    "def newton_poly(coef, x_data, x):\n",
    "    '''\n",
    "    evaluate the newton polynomial \n",
    "    at x\n",
    "    '''\n",
    "    n = len(x_data) - 1 \n",
    "    p = coef[n]\n",
    "    for k in range(1,n+1):\n",
    "        p = coef[n-k] + (x -x_data[n-k])*p\n",
    "    return p\n"
   ]
  },
  {
   "cell_type": "code",
   "execution_count": 12,
   "id": "87415962",
   "metadata": {},
   "outputs": [
    {
     "name": "stdout",
     "output_type": "stream",
     "text": [
      "coef : \n",
      "[-12.  12.  -3.   1.]\n",
      "for x =1.65 we get y = 3.1346250000000015\n"
     ]
    }
   ],
   "source": [
    "#set data:\n",
    "X=[0,1,3,4]\n",
    "Y=[-12,0,6,12]\n",
    "y = np.array(Y)\n",
    "x = np.array(X)\n",
    "# get the divided difference coef\n",
    "a_s = divided_diff(x, y)[0, :]\n",
    "print(\"coef : \")\n",
    "print(a_s)\n",
    "x_new = 1.65\n",
    "y_new = newton_poly(a_s, x, x_new)\n",
    "print(\"for x =\"+str(x_new)+\" we get y = \"+str(y_new))\n"
   ]
  },
  {
   "cell_type": "code",
   "execution_count": 4,
   "id": "8068a428",
   "metadata": {},
   "outputs": [],
   "source": [
    "def lagrangeInterpolation(x,Xdata,Ydata):\n",
    "    p=0\n",
    "    for i in range(len(Xdata)):\n",
    "        product=Ydata[i]\n",
    "        for j in range(len(Xdata)):\n",
    "            if j!=i:\n",
    "                product=product*(x-Xdata[j])/(Xdata[i]-Xdata[j])\n",
    "        p+=product\n",
    "    return p\n",
    "        \n",
    "    "
   ]
  },
  {
   "cell_type": "code",
   "execution_count": 6,
   "id": "2b1e5b96",
   "metadata": {},
   "outputs": [
    {
     "name": "stdout",
     "output_type": "stream",
     "text": [
      "4.5825\n"
     ]
    }
   ],
   "source": [
    "X=[0,1,3]\n",
    "Y=[-12,0,6]\n",
    "print(lagrangeInterpolation(1.65,X,Y))"
   ]
  }
 ],
 "metadata": {
  "kernelspec": {
   "display_name": "Python 3 (ipykernel)",
   "language": "python",
   "name": "python3"
  },
  "language_info": {
   "codemirror_mode": {
    "name": "ipython",
    "version": 3
   },
   "file_extension": ".py",
   "mimetype": "text/x-python",
   "name": "python",
   "nbconvert_exporter": "python",
   "pygments_lexer": "ipython3",
   "version": "3.9.7"
  }
 },
 "nbformat": 4,
 "nbformat_minor": 5
}
