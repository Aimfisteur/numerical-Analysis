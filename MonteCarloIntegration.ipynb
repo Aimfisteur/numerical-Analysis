{
 "cells": [
  {
   "cell_type": "markdown",
   "id": "6b4d7a83",
   "metadata": {},
   "source": [
    "# Numerical integration:"
   ]
  },
  {
   "cell_type": "code",
   "execution_count": 1,
   "id": "53c9753c",
   "metadata": {},
   "outputs": [],
   "source": [
    "import math\n",
    "import numpy as np\n",
    "import matplotlib.pyplot as plt\n",
    "import random\n"
   ]
  },
  {
   "cell_type": "code",
   "execution_count": 2,
   "id": "826218ce",
   "metadata": {},
   "outputs": [
    {
     "data": {
      "image/png": "[encoded data removed]",
      "text/plain": [
       "<Figure size 432x288 with 1 Axes>"
      ]
     },
     "metadata": {
      "needs_background": "light"
     },
     "output_type": "display_data"
    },
    {
     "name": "stdout",
     "output_type": "stream",
     "text": [
      "0.9741731236063721\n"
     ]
    }
   ],
   "source": [
    "def f(x):\n",
    "    return 1.5/math.sqrt(math.pi)*math.exp(-x**2)\n",
    "\n",
    "def affichage(a,b,n):\n",
    "    X=np.linspace(a,b,n)\n",
    "    Y=[f(x) for x in X]\n",
    "    plt.plot(X,Y)\n",
    "    plt.show()\n",
    "    \n",
    "affichage(0,1.5,1000)\n",
    "\n",
    "x1=-1/math.sqrt(3)*0.75+0.75\n",
    "x2=1/math.sqrt(3)*0.75+0.75\n",
    "\n",
    "print((f(x1)+f(x2)))"
   ]
  },
  {
   "cell_type": "code",
   "execution_count": 3,
   "id": "cbb72dab",
   "metadata": {},
   "outputs": [
    {
     "name": "stdout",
     "output_type": "stream",
     "text": [
      "1.04\n"
     ]
    }
   ],
   "source": [
    "def randomDecimal(a,b):\n",
    "    return a+random.random()*(b-a)\n",
    "\n",
    "def monteCarlo(left,right,bottom,top,n):\n",
    "    countIn=0\n",
    "    totalCount=n\n",
    "    for i in range(n):\n",
    "        x=randomDecimal(left,right)\n",
    "        y=randomDecimal(bottom,right)\n",
    "        if(y<=f(x)):\n",
    "            countIn+=1\n",
    "    return countIn/totalCount*(right-left)*(top-bottom)\n",
    "\n",
    "print(monteCarlo(0,1.5,0,2,1500))\n",
    "        \n",
    "    \n",
    "    \n",
    "    "
   ]
  },
  {
   "cell_type": "code",
   "execution_count": null,
   "id": "83bfd9b0",
   "metadata": {},
   "outputs": [],
   "source": [
    "\n",
    "\n",
    "    "
   ]
  }
 ],
 "metadata": {
  "kernelspec": {
   "display_name": "Python 3.9.7 ('base')",
   "language": "python",
   "name": "python3"
  },
  "language_info": {
   "codemirror_mode": {
    "name": "ipython",
    "version": 3
   },
   "file_extension": ".py",
   "mimetype": "text/x-python",
   "name": "python",
   "nbconvert_exporter": "python",
   "pygments_lexer": "ipython3",
   "version": "3.9.7"
  },
  "vscode": {
   "interpreter": {
    "hash": "265f496f8a35e0686c29603868d89f533b5e9beb3e528ed090ab6940decc4794"
   }
  }
 },
 "nbformat": 4,
 "nbformat_minor": 5
}
