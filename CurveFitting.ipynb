{
 "cells": [
  {
   "cell_type": "markdown",
   "id": "f64fd2a4",
   "metadata": {},
   "source": [
    "# Curve Fitting"
   ]
  },
  {
   "cell_type": "raw",
   "id": "feea507e",
   "metadata": {},
   "source": [
    "#Linear regression Least square"
   ]
  },
  {
   "cell_type": "code",
   "execution_count": 1,
   "id": "a5bd6c84",
   "metadata": {},
   "outputs": [],
   "source": [
    "import matplotlib.pyplot as plt\n",
    "import math\n",
    "import numpy as np\n",
    "import pandas as pd\n",
    "    "
   ]
  },
  {
   "cell_type": "code",
   "execution_count": 2,
   "id": "fade8161",
   "metadata": {},
   "outputs": [],
   "source": [
    "def linearReg(X,Y):\n",
    "    n=len(X)\n",
    "    XxY=[]\n",
    "    X2=[]\n",
    "    Y2=[]\n",
    "    \n",
    "    for i in range(n):\n",
    "        XxY.append(X[i]*Y[i])\n",
    "        X2.append(X[i]**2)\n",
    "        Y2.append(Y[i]**2)\n",
    "    a1=(n*sum(XxY)-sum(X)*sum(Y))/(n*sum(X2)-sum(X)**2)\n",
    "    \n",
    "    a0=sum(Y)/n-a1*sum(X)/n\n",
    "    \n",
    "    \n",
    "    \n",
    "    Sr=0\n",
    "    St=0\n",
    "    #model=[]\n",
    "    for i in range(n):\n",
    "        St+=(Y[i]-sum(Y)/n)**2\n",
    "        Sr+=(Y[i]-a0-a1*X[i])**2\n",
    "        #model.append(a0+a1*X[i])\n",
    "    r2=(St-Sr)/St\n",
    "    StandarErrorOfTheEstimate=math.sqrt(Sr/(n-2))\n",
    "    \n",
    "    print(\"a1 = \"+str(a1))\n",
    "    print(\"a0 = \"+str(a0))\n",
    "    print(\"Sr = \"+str(Sr))\n",
    "    print(\"St = \"+str(St))\n",
    "    print(\"Sy/x = \"+str(StandarErrorOfTheEstimate))\n",
    "    print(\"r^2 = \"+str(r2))\n",
    "    \n",
    "    xmodel = np.linspace(X[0],X[-1],100)\n",
    "    ymodel = a1*xmodel+a0\n",
    "    plt.plot(xmodel, ymodel, '-r', label='model')\n",
    "    plt.title('linear regresssion')\n",
    "    plt.xlabel('x', color='#1C2833')\n",
    "    plt.ylabel('y', color='#1C2833')\n",
    "    \n",
    "    plt.scatter(X,Y,)\n",
    "    plt.show()\n",
    "    return [a1,a0]\n",
    "    \n",
    "    "
   ]
  },
  {
   "cell_type": "code",
   "execution_count": 83,
   "id": "39dcf46b",
   "metadata": {},
   "outputs": [
    {
     "name": "stdout",
     "output_type": "stream",
     "text": [
      "a1 = 1.992125991087338\n",
      "a0 = 0.40978765454400423\n",
      "Sr = 0.00023463550335468613\n",
      "St = 2.2129734768163765\n",
      "Sy/x = 0.008843745499027098\n",
      "r^2 = 0.9998939727449005\n"
     ]
    },
    {
     "data": {
      "image/png": "[encoded data removed]",
      "text/plain": [
       "<Figure size 432x288 with 1 Axes>"
      ]
     },
     "metadata": {
      "needs_background": "light"
     },
     "output_type": "display_data"
    },
    {
     "name": "stdout",
     "output_type": "stream",
     "text": [
      "4.861361656451311\n",
      "2.440288253956213\n"
     ]
    },
    {
     "data": {
      "text/plain": [
       "[<matplotlib.lines.Line2D at 0x7fadbbd47cd0>]"
      ]
     },
     "execution_count": 83,
     "metadata": {},
     "output_type": "execute_result"
    },
    {
     "data": {
      "image/png": "[encoded data removed]",
      "text/plain": [
       "<Figure size 432x288 with 1 Axes>"
      ]
     },
     "metadata": {
      "needs_background": "light"
     },
     "output_type": "display_data"
    }
   ],
   "source": [
    "X=[0.5,1,2,3,4]\n",
    "Y=[10.4,5.8,3.3,2.4,2]\n",
    "Ysqrt=[math.sqrt(a) for a in Y]\n",
    "Xchange=[1/math.sqrt(a) for a in X]\n",
    "\n",
    "item=linearReg(Xchange,Ysqrt)\n",
    "\n",
    "a1=item[0]\n",
    "a0=item[1]\n",
    "b=1/a0\n",
    "a=a1*b\n",
    "print(a)\n",
    "print(b)\n",
    "plt.scatter(X,Y)\n",
    "xmodel = np.linspace(X[0],X[-1],100)\n",
    "#ymodel = a1*math.exp(xmodel*B1)\n",
    "ymodel=[]\n",
    "for x in xmodel:\n",
    "    ymodel.append(((a+math.sqrt(x))/(b*math.sqrt(x)))**2)\n",
    "plt.plot(xmodel, ymodel, '-r', label='model')\n"
   ]
  },
  {
   "cell_type": "raw",
   "id": "184ee8de",
   "metadata": {},
   "source": [
    "#regression polynomiale"
   ]
  },
  {
   "cell_type": "code",
   "execution_count": 131,
   "id": "85e1565a",
   "metadata": {},
   "outputs": [],
   "source": [
    "def regPolynomial(X,Y):\n",
    "    from numpy.linalg import inv\n",
    "    n=len(X)\n",
    "    \n",
    "    Sxi=sum(X)\n",
    "    Sxi2=0\n",
    "    Sxi3=0\n",
    "    Sxi4=0\n",
    "    Syi=0\n",
    "    Sxiyi=0\n",
    "    Sxi2yi=0\n",
    "    for i in range(n):\n",
    "        Sxi2+=X[i]**2\n",
    "        Sxi3+=X[i]**3\n",
    "        Sxi4+=X[i]**4\n",
    "        Syi+=Y[i]\n",
    "        Sxiyi+=X[i]*Y[i]\n",
    "        Sxi2yi+=Y[i]*X[i]**2\n",
    "    A=np.matrix([[n,Sxi, Sxi2], [Sxi,Sxi2, Sxi3],[Sxi2,Sxi3,Sxi4]])\n",
    "    B=np.matrix([[Syi],[Sxiyi],[Sxi2yi]])\n",
    "    Res=inv(A)@B\n",
    "    print(Res)\n",
    "    \n",
    "    a0=Res[0][0]\n",
    "    a1=Res[1][0]\n",
    "    a2=Res[2][0]\n",
    "    \n",
    "    \n",
    "    plt.scatter(X,Y)\n",
    "    xmodel = np.linspace(X[0],X[-1],100)\n",
    "    print(xmodel)\n",
    "    ymodel=[]\n",
    "    for x in xmodel:\n",
    "        \n",
    "        calcul=a0+a1*x+a2*x**2\n",
    "        \n",
    "        ymodel.append(calcul)\n",
    "    plt.plot(xmodel, ymodel, '-r', label='model')\n",
    "    "
   ]
  },
  {
   "cell_type": "code",
   "execution_count": 132,
   "id": "4c1f185d",
   "metadata": {},
   "outputs": [
    {
     "name": "stdout",
     "output_type": "stream",
     "text": [
      "[[ 609.47325534]\n",
      " [-771.36856451]\n",
      " [ 930.89991229]]\n",
      "[0.2        0.22121212 0.24242424 0.26363636 0.28484848 0.30606061\n",
      " 0.32727273 0.34848485 0.36969697 0.39090909 0.41212121 0.43333333\n",
      " 0.45454545 0.47575758 0.4969697  0.51818182 0.53939394 0.56060606\n",
      " 0.58181818 0.6030303  0.62424242 0.64545455 0.66666667 0.68787879\n",
      " 0.70909091 0.73030303 0.75151515 0.77272727 0.79393939 0.81515152\n",
      " 0.83636364 0.85757576 0.87878788 0.9        0.92121212 0.94242424\n",
      " 0.96363636 0.98484848 1.00606061 1.02727273 1.04848485 1.06969697\n",
      " 1.09090909 1.11212121 1.13333333 1.15454545 1.17575758 1.1969697\n",
      " 1.21818182 1.23939394 1.26060606 1.28181818 1.3030303  1.32424242\n",
      " 1.34545455 1.36666667 1.38787879 1.40909091 1.43030303 1.45151515\n",
      " 1.47272727 1.49393939 1.51515152 1.53636364 1.55757576 1.57878788\n",
      " 1.6        1.62121212 1.64242424 1.66363636 1.68484848 1.70606061\n",
      " 1.72727273 1.74848485 1.76969697 1.79090909 1.81212121 1.83333333\n",
      " 1.85454545 1.87575758 1.8969697  1.91818182 1.93939394 1.96060606\n",
      " 1.98181818 2.0030303  2.02424242 2.04545455 2.06666667 2.08787879\n",
      " 2.10909091 2.13030303 2.15151515 2.17272727 2.19393939 2.21515152\n",
      " 2.23636364 2.25757576 2.27878788 2.3       ]\n"
     ]
    },
    {
     "ename": "ValueError",
     "evalue": "x and y can be no greater than 2D, but have shapes (100,) and (100, 1, 1)",
     "output_type": "error",
     "traceback": [
      "\u001b[0;31m---------------------------------------------------------------------------\u001b[0m",
      "\u001b[0;31mValueError\u001b[0m                                Traceback (most recent call last)",
      "\u001b[0;32m/var/folders/30/lz9zm1ns67s_mmrhjn8m17fm0000gn/T/ipykernel_62968/3359462986.py\u001b[0m in \u001b[0;36m<module>\u001b[0;34m\u001b[0m\n\u001b[1;32m      1\u001b[0m \u001b[0mX\u001b[0m\u001b[0;34m=\u001b[0m\u001b[0;34m[\u001b[0m\u001b[0;36m0.2\u001b[0m\u001b[0;34m,\u001b[0m\u001b[0;36m0.5\u001b[0m\u001b[0;34m,\u001b[0m\u001b[0;36m0.8\u001b[0m\u001b[0;34m,\u001b[0m\u001b[0;36m1.2\u001b[0m\u001b[0;34m,\u001b[0m\u001b[0;36m1.7\u001b[0m\u001b[0;34m,\u001b[0m\u001b[0;36m2\u001b[0m\u001b[0;34m,\u001b[0m\u001b[0;36m2.3\u001b[0m\u001b[0;34m]\u001b[0m\u001b[0;34m\u001b[0m\u001b[0;34m\u001b[0m\u001b[0m\n\u001b[1;32m      2\u001b[0m \u001b[0mY\u001b[0m\u001b[0;34m=\u001b[0m\u001b[0;34m[\u001b[0m\u001b[0;36m500\u001b[0m\u001b[0;34m,\u001b[0m\u001b[0;36m700\u001b[0m\u001b[0;34m,\u001b[0m\u001b[0;36m100\u001b[0m\u001b[0;34m,\u001b[0m\u001b[0;36m1200\u001b[0m\u001b[0;34m,\u001b[0m\u001b[0;36m2200\u001b[0m\u001b[0;34m,\u001b[0m\u001b[0;36m2650\u001b[0m\u001b[0;34m,\u001b[0m\u001b[0;36m3750\u001b[0m\u001b[0;34m]\u001b[0m\u001b[0;34m\u001b[0m\u001b[0;34m\u001b[0m\u001b[0m\n\u001b[0;32m----> 3\u001b[0;31m \u001b[0mregPolynomial\u001b[0m\u001b[0;34m(\u001b[0m\u001b[0mX\u001b[0m\u001b[0;34m,\u001b[0m\u001b[0mY\u001b[0m\u001b[0;34m)\u001b[0m\u001b[0;34m\u001b[0m\u001b[0;34m\u001b[0m\u001b[0m\n\u001b[0m\u001b[1;32m      4\u001b[0m \u001b[0;34m\u001b[0m\u001b[0m\n",
      "\u001b[0;32m/var/folders/30/lz9zm1ns67s_mmrhjn8m17fm0000gn/T/ipykernel_62968/1153415553.py\u001b[0m in \u001b[0;36mregPolynomial\u001b[0;34m(X, Y)\u001b[0m\n\u001b[1;32m     36\u001b[0m \u001b[0;34m\u001b[0m\u001b[0m\n\u001b[1;32m     37\u001b[0m         \u001b[0mymodel\u001b[0m\u001b[0;34m.\u001b[0m\u001b[0mappend\u001b[0m\u001b[0;34m(\u001b[0m\u001b[0mcalcul\u001b[0m\u001b[0;34m)\u001b[0m\u001b[0;34m\u001b[0m\u001b[0;34m\u001b[0m\u001b[0m\n\u001b[0;32m---> 38\u001b[0;31m     \u001b[0mplt\u001b[0m\u001b[0;34m.\u001b[0m\u001b[0mplot\u001b[0m\u001b[0;34m(\u001b[0m\u001b[0mxmodel\u001b[0m\u001b[0;34m,\u001b[0m \u001b[0mymodel\u001b[0m\u001b[0;34m,\u001b[0m \u001b[0;34m'-r'\u001b[0m\u001b[0;34m,\u001b[0m \u001b[0mlabel\u001b[0m\u001b[0;34m=\u001b[0m\u001b[0;34m'model'\u001b[0m\u001b[0;34m)\u001b[0m\u001b[0;34m\u001b[0m\u001b[0;34m\u001b[0m\u001b[0m\n\u001b[0m\u001b[1;32m     39\u001b[0m \u001b[0;34m\u001b[0m\u001b[0m\n",
      "\u001b[0;32m~/opt/anaconda3/lib/python3.9/site-packages/matplotlib/pyplot.py\u001b[0m in \u001b[0;36mplot\u001b[0;34m(scalex, scaley, data, *args, **kwargs)\u001b[0m\n\u001b[1;32m   3017\u001b[0m \u001b[0;34m@\u001b[0m\u001b[0m_copy_docstring_and_deprecators\u001b[0m\u001b[0;34m(\u001b[0m\u001b[0mAxes\u001b[0m\u001b[0;34m.\u001b[0m\u001b[0mplot\u001b[0m\u001b[0;34m)\u001b[0m\u001b[0;34m\u001b[0m\u001b[0;34m\u001b[0m\u001b[0m\n\u001b[1;32m   3018\u001b[0m \u001b[0;32mdef\u001b[0m \u001b[0mplot\u001b[0m\u001b[0;34m(\u001b[0m\u001b[0;34m*\u001b[0m\u001b[0margs\u001b[0m\u001b[0;34m,\u001b[0m \u001b[0mscalex\u001b[0m\u001b[0;34m=\u001b[0m\u001b[0;32mTrue\u001b[0m\u001b[0;34m,\u001b[0m \u001b[0mscaley\u001b[0m\u001b[0;34m=\u001b[0m\u001b[0;32mTrue\u001b[0m\u001b[0;34m,\u001b[0m \u001b[0mdata\u001b[0m\u001b[0;34m=\u001b[0m\u001b[0;32mNone\u001b[0m\u001b[0;34m,\u001b[0m \u001b[0;34m**\u001b[0m\u001b[0mkwargs\u001b[0m\u001b[0;34m)\u001b[0m\u001b[0;34m:\u001b[0m\u001b[0;34m\u001b[0m\u001b[0;34m\u001b[0m\u001b[0m\n\u001b[0;32m-> 3019\u001b[0;31m     return gca().plot(\n\u001b[0m\u001b[1;32m   3020\u001b[0m         \u001b[0;34m*\u001b[0m\u001b[0margs\u001b[0m\u001b[0;34m,\u001b[0m \u001b[0mscalex\u001b[0m\u001b[0;34m=\u001b[0m\u001b[0mscalex\u001b[0m\u001b[0;34m,\u001b[0m \u001b[0mscaley\u001b[0m\u001b[0;34m=\u001b[0m\u001b[0mscaley\u001b[0m\u001b[0;34m,\u001b[0m\u001b[0;34m\u001b[0m\u001b[0;34m\u001b[0m\u001b[0m\n\u001b[1;32m   3021\u001b[0m         **({\"data\": data} if data is not None else {}), **kwargs)\n",
      "\u001b[0;32m~/opt/anaconda3/lib/python3.9/site-packages/matplotlib/axes/_axes.py\u001b[0m in \u001b[0;36mplot\u001b[0;34m(self, scalex, scaley, data, *args, **kwargs)\u001b[0m\n\u001b[1;32m   1603\u001b[0m         \"\"\"\n\u001b[1;32m   1604\u001b[0m         \u001b[0mkwargs\u001b[0m \u001b[0;34m=\u001b[0m \u001b[0mcbook\u001b[0m\u001b[0;34m.\u001b[0m\u001b[0mnormalize_kwargs\u001b[0m\u001b[0;34m(\u001b[0m\u001b[0mkwargs\u001b[0m\u001b[0;34m,\u001b[0m \u001b[0mmlines\u001b[0m\u001b[0;34m.\u001b[0m\u001b[0mLine2D\u001b[0m\u001b[0;34m)\u001b[0m\u001b[0;34m\u001b[0m\u001b[0;34m\u001b[0m\u001b[0m\n\u001b[0;32m-> 1605\u001b[0;31m         \u001b[0mlines\u001b[0m \u001b[0;34m=\u001b[0m \u001b[0;34m[\u001b[0m\u001b[0;34m*\u001b[0m\u001b[0mself\u001b[0m\u001b[0;34m.\u001b[0m\u001b[0m_get_lines\u001b[0m\u001b[0;34m(\u001b[0m\u001b[0;34m*\u001b[0m\u001b[0margs\u001b[0m\u001b[0;34m,\u001b[0m \u001b[0mdata\u001b[0m\u001b[0;34m=\u001b[0m\u001b[0mdata\u001b[0m\u001b[0;34m,\u001b[0m \u001b[0;34m**\u001b[0m\u001b[0mkwargs\u001b[0m\u001b[0;34m)\u001b[0m\u001b[0;34m]\u001b[0m\u001b[0;34m\u001b[0m\u001b[0;34m\u001b[0m\u001b[0m\n\u001b[0m\u001b[1;32m   1606\u001b[0m         \u001b[0;32mfor\u001b[0m \u001b[0mline\u001b[0m \u001b[0;32min\u001b[0m \u001b[0mlines\u001b[0m\u001b[0;34m:\u001b[0m\u001b[0;34m\u001b[0m\u001b[0;34m\u001b[0m\u001b[0m\n\u001b[1;32m   1607\u001b[0m             \u001b[0mself\u001b[0m\u001b[0;34m.\u001b[0m\u001b[0madd_line\u001b[0m\u001b[0;34m(\u001b[0m\u001b[0mline\u001b[0m\u001b[0;34m)\u001b[0m\u001b[0;34m\u001b[0m\u001b[0;34m\u001b[0m\u001b[0m\n",
      "\u001b[0;32m~/opt/anaconda3/lib/python3.9/site-packages/matplotlib/axes/_base.py\u001b[0m in \u001b[0;36m__call__\u001b[0;34m(self, data, *args, **kwargs)\u001b[0m\n\u001b[1;32m    313\u001b[0m                 \u001b[0mthis\u001b[0m \u001b[0;34m+=\u001b[0m \u001b[0margs\u001b[0m\u001b[0;34m[\u001b[0m\u001b[0;36m0\u001b[0m\u001b[0;34m]\u001b[0m\u001b[0;34m,\u001b[0m\u001b[0;34m\u001b[0m\u001b[0;34m\u001b[0m\u001b[0m\n\u001b[1;32m    314\u001b[0m                 \u001b[0margs\u001b[0m \u001b[0;34m=\u001b[0m \u001b[0margs\u001b[0m\u001b[0;34m[\u001b[0m\u001b[0;36m1\u001b[0m\u001b[0;34m:\u001b[0m\u001b[0;34m]\u001b[0m\u001b[0;34m\u001b[0m\u001b[0;34m\u001b[0m\u001b[0m\n\u001b[0;32m--> 315\u001b[0;31m             \u001b[0;32myield\u001b[0m \u001b[0;32mfrom\u001b[0m \u001b[0mself\u001b[0m\u001b[0;34m.\u001b[0m\u001b[0m_plot_args\u001b[0m\u001b[0;34m(\u001b[0m\u001b[0mthis\u001b[0m\u001b[0;34m,\u001b[0m \u001b[0mkwargs\u001b[0m\u001b[0;34m)\u001b[0m\u001b[0;34m\u001b[0m\u001b[0;34m\u001b[0m\u001b[0m\n\u001b[0m\u001b[1;32m    316\u001b[0m \u001b[0;34m\u001b[0m\u001b[0m\n\u001b[1;32m    317\u001b[0m     \u001b[0;32mdef\u001b[0m \u001b[0mget_next_color\u001b[0m\u001b[0;34m(\u001b[0m\u001b[0mself\u001b[0m\u001b[0;34m)\u001b[0m\u001b[0;34m:\u001b[0m\u001b[0;34m\u001b[0m\u001b[0;34m\u001b[0m\u001b[0m\n",
      "\u001b[0;32m~/opt/anaconda3/lib/python3.9/site-packages/matplotlib/axes/_base.py\u001b[0m in \u001b[0;36m_plot_args\u001b[0;34m(self, tup, kwargs, return_kwargs)\u001b[0m\n\u001b[1;32m    502\u001b[0m                              f\"have shapes {x.shape} and {y.shape}\")\n\u001b[1;32m    503\u001b[0m         \u001b[0;32mif\u001b[0m \u001b[0mx\u001b[0m\u001b[0;34m.\u001b[0m\u001b[0mndim\u001b[0m \u001b[0;34m>\u001b[0m \u001b[0;36m2\u001b[0m \u001b[0;32mor\u001b[0m \u001b[0my\u001b[0m\u001b[0;34m.\u001b[0m\u001b[0mndim\u001b[0m \u001b[0;34m>\u001b[0m \u001b[0;36m2\u001b[0m\u001b[0;34m:\u001b[0m\u001b[0;34m\u001b[0m\u001b[0;34m\u001b[0m\u001b[0m\n\u001b[0;32m--> 504\u001b[0;31m             raise ValueError(f\"x and y can be no greater than 2D, but have \"\n\u001b[0m\u001b[1;32m    505\u001b[0m                              f\"shapes {x.shape} and {y.shape}\")\n\u001b[1;32m    506\u001b[0m         \u001b[0;32mif\u001b[0m \u001b[0mx\u001b[0m\u001b[0;34m.\u001b[0m\u001b[0mndim\u001b[0m \u001b[0;34m==\u001b[0m \u001b[0;36m1\u001b[0m\u001b[0;34m:\u001b[0m\u001b[0;34m\u001b[0m\u001b[0;34m\u001b[0m\u001b[0m\n",
      "\u001b[0;31mValueError\u001b[0m: x and y can be no greater than 2D, but have shapes (100,) and (100, 1, 1)"
     ]
    },
    {
     "data": {
      "image/png": "[encoded data removed]",
      "text/plain": [
       "<Figure size 432x288 with 1 Axes>"
      ]
     },
     "metadata": {
      "needs_background": "light"
     },
     "output_type": "display_data"
    }
   ],
   "source": [
    "X=[0.2,0.5,0.8,1.2,1.7,2,2.3]\n",
    "Y=[500,700,100,1200,2200,2650,3750]\n",
    "regPolynomial(X,Y)\n",
    "\n"
   ]
  },
  {
   "cell_type": "raw",
   "id": "0bec8fe6",
   "metadata": {},
   "source": [
    "General Least Square Regression"
   ]
  },
  {
   "cell_type": "code",
   "execution_count": 2,
   "id": "525c9577",
   "metadata": {},
   "outputs": [],
   "source": [
    "def generalLeastSquareReg(Z,Y,X):\n",
    "    n=len(X)\n",
    "    from numpy.linalg import inv\n",
    "    Z=np.array(Z)\n",
    "    Y=np.array(Y)\n",
    "    Zt=Z.copy()\n",
    "    Zt=Zt.transpose()\n",
    "    \n",
    "    A=inv(Zt@Z)@Zt@Y\n",
    "    print(A)\n",
    "    \n",
    "    ###############################\n",
    "    #Modify this part in the exam#\n",
    "    #############################\n",
    "    \n",
    "    \n",
    "    \"\"\"Ymodel=[]\n",
    "    #add model\n",
    "    for x in X:\n",
    "        Ymodel.append((alpha*x**2+beta*x+1)/(gamma*x))\n",
    "    \n",
    "    St=0\n",
    "    Sr=0\n",
    "    \n",
    "    for i in range(n):\n",
    "        St+=(Y[i]-sum(Y)/n)**2\n",
    "        Sr+=(Y[i]-Ymodel[i])**2\n",
    "    r2=(St-Sr)/St\n",
    "    \n",
    "    StandardError=math.sqrt(Sr/(n-3))\n",
    "    \n",
    "    print(\" St = \"+str(St))\n",
    "    print(\"Sr  = \"+str(Sr))\n",
    "    print(\"r^2 = \"+str(r2))\n",
    "    print(\"Sy/x = \"+str(StandardError))\"\"\"\n",
    "        \n",
    "    \n",
    "    \n",
    "    "
   ]
  },
  {
   "cell_type": "code",
   "execution_count": 6,
   "id": "d7e03b9e",
   "metadata": {
    "scrolled": true
   },
   "outputs": [
    {
     "name": "stdout",
     "output_type": "stream",
     "text": [
      "[ 3.09183333 -1.098375    4.57946667 -0.7109    ]\n"
     ]
    }
   ],
   "source": [
    "Y=[3.108,-1.334,-5.679,25.867,7.622,-11.356]\n",
    "Z=[[1,0,0,0],[1,4,0,0],[1,8,0,0],[1,0,5,0],[1,4,5,20],[1,8,5,40]]\n",
    "X=[0.06,0.58,1.38,2.17,3.86]\n",
    "generalLeastSquareReg(Z,Y,X)\n"
   ]
  },
  {
   "cell_type": "raw",
   "id": "80fa0f4a",
   "metadata": {},
   "source": [
    "Multilinear Regression"
   ]
  },
  {
   "cell_type": "code",
   "execution_count": 5,
   "id": "d9c1df25",
   "metadata": {},
   "outputs": [],
   "source": [
    "def multipleLinearReg(X1,X2,Y):\n",
    "    from numpy.linalg import inv\n",
    "    n=len(X1)\n",
    "    Sx1i=sum(X1)\n",
    "    Sx2i=sum(X2)\n",
    "    Sx1i2=0\n",
    "    Sx2i2=0\n",
    "    Sx1x2=0\n",
    "    Sy=sum(Y)\n",
    "    Sx1y=0\n",
    "    Sx2y=0\n",
    "    for i in range(n):\n",
    "        Sx1i2+=X1[i]**2\n",
    "        Sx2i2+=X2[i]**2\n",
    "        Sx1x2+=X1[i]*X2[i]\n",
    "        Sx1y+=X1[i]*Y[i]\n",
    "        Sx2y+=X2[i]*Y[i]\n",
    "    \n",
    "        \n",
    "    A=np.array([[n,Sx1i,Sx2i],[Sx1i,Sx1i2,Sx1x2],[Sx2i,Sx1x2,Sx2i2]])\n",
    "    \n",
    "    Z=np.array([[Sy],[Sx1y],[Sx2y]])\n",
    "    Res=inv(A)@Z\n",
    "    print(Res)\n",
    "    St=0\n",
    "    Sr=0\n",
    "    a0=Res[0][0]\n",
    "   \n",
    "    a1=Res[1][0]\n",
    "    a2=Res[2][0]\n",
    "    for i in range(n):\n",
    "        St+=(Y[i]-sum(Y)/n)**2\n",
    "        Sr+=(Y[i]-a0-a1*X1[i]-a2*X2[i])**2\n",
    "    r2=(St-Sr)/St\n",
    "    \n",
    "    print(\"St= \"+str(St))\n",
    "    print(\"Sr = \"+str(Sr))\n",
    "    print(\"r^2 = \"+str(r2))\n",
    "    print(\"r = \"+str(math.sqrt(r2)))\n",
    "    print(\"Sy/x = \"+str(math.sqrt(Sr/(n-3))))#maybe -2 idk\n",
    "    "
   ]
  },
  {
   "cell_type": "code",
   "execution_count": 6,
   "id": "296fca23",
   "metadata": {},
   "outputs": [
    {
     "name": "stdout",
     "output_type": "stream",
     "text": [
      "[[75.8575]\n",
      " [-2.1875]\n",
      " [-7.0475]]\n",
      "St= 218.76027499999998\n",
      "Sr = 0.9506250000000027\n",
      "r^2 = 0.9956544898291063\n",
      "r = 0.9978248793396095\n",
      "Sy/x = 0.9750000000000014\n"
     ]
    }
   ],
   "source": [
    "X1=[4,6,4,6]\n",
    "X2=[2,2,4,4]\n",
    "Y=[53.5,48.15,38.43,35.03]\n",
    "multipleLinearReg(X1,X2,Y)"
   ]
  },
  {
   "cell_type": "raw",
   "id": "5ddc3f89",
   "metadata": {},
   "source": [
    "Non Linear Regression"
   ]
  },
  {
   "cell_type": "code",
   "execution_count": null,
   "id": "c864d064",
   "metadata": {},
   "outputs": [],
   "source": []
  }
 ],
 "metadata": {
  "kernelspec": {
   "display_name": "Python 3 (ipykernel)",
   "language": "python",
   "name": "python3"
  },
  "language_info": {
   "codemirror_mode": {
    "name": "ipython",
    "version": 3
   },
   "file_extension": ".py",
   "mimetype": "text/x-python",
   "name": "python",
   "nbconvert_exporter": "python",
   "pygments_lexer": "ipython3",
   "version": "3.9.7"
  }
 },
 "nbformat": 4,
 "nbformat_minor": 5
}
