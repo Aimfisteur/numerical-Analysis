{
 "cells": [
  {
   "cell_type": "markdown",
   "id": "7b8015eb",
   "metadata": {},
   "source": [
    "## Find ROOT"
   ]
  },
  {
   "cell_type": "markdown",
   "id": "08910cd0",
   "metadata": {},
   "source": [
    "## Bisection method\n",
    "\n"
   ]
  },
  {
   "cell_type": "code",
   "execution_count": 2,
   "id": "e880cce6",
   "metadata": {},
   "outputs": [],
   "source": [
    "import math\n",
    "import numpy as np\n",
    "import pandas as pd\n",
    "import matplotlib.pyplot as plt"
   ]
  },
  {
   "cell_type": "code",
   "execution_count": 17,
   "id": "5da92b46",
   "metadata": {},
   "outputs": [],
   "source": [
    "def f(x):\n",
    "    return 6*x**4 -33*x**3 +17*x**2 -11*x+5\n"
   ]
  },
  {
   "cell_type": "code",
   "execution_count": 24,
   "id": "c2e9f848",
   "metadata": {},
   "outputs": [],
   "source": [
    "def bisection(x_l,x_u,iteration):\n",
    "    Res=[[\"x_l\",\"x_u\",\"x_r\",\"f(x_l)\",\"f(x_u)\",\"f(x_r)\",\"True Error\", \"Relative Error\"]]\n",
    "    \n",
    "    \n",
    "    #constantes:\n",
    "    TrueValue=5.628590176     #!!!!!!!écrire la vrai valeur\n",
    "    x_r=-1\n",
    "    for i in range(iteration):\n",
    "        old= x_r\n",
    "        x_r=(x_l+x_u)/2\n",
    "\n",
    "        fx_l=f(x_l)\n",
    "        fx_u=f(x_u)\n",
    "        fx_r=f(x_r)\n",
    "        TrueError=abs((TrueValue-x_r)/TrueValue)*100\n",
    "        \n",
    "        \n",
    "        if fx_l*fx_u >0:\n",
    "            print(\"Il n'y a pas de roots\")\n",
    "        \n",
    "        if i>=1:\n",
    "            if i==19:\n",
    "                print(old)\n",
    "                print(fx_r)\n",
    "            relativeError=abs((x_r-old)/x_r)*100\n",
    "        else:\n",
    "            relativeError=\"pas encore de valeur\"\n",
    "        \n",
    "        if fx_r*fx_l<=0:\n",
    "            x_u=x_r\n",
    "        else:\n",
    "            x_l=x_r\n",
    "            \n",
    "        Res.append([x_l,x_u,x_r,fx_l,fx_u,fx_r,TrueError,relativeError])\n",
    "\n",
    "        \n",
    "    \n",
    "    #Affichage des résultats\n",
    "    df=pd.DataFrame(Res)\n",
    "    print(df)\n",
    "    \n",
    "    \n",
    "    \n",
    "    \n",
    "    \n",
    "    "
   ]
  },
  {
   "cell_type": "code",
   "execution_count": 25,
   "id": "cb689de3",
   "metadata": {},
   "outputs": [
    {
     "name": "stdout",
     "output_type": "stream",
     "text": [
      "          0    1         2         3       4         5           6  \\\n",
      "0       x_l  x_u       x_r    f(x_l)  f(x_u)    f(x_r)  True Error   \n",
      "1         0  1.0       1.0         5    -117     -16.0   82.233562   \n",
      "2         0  0.5       0.5         5   -16.0       0.0   91.116781   \n",
      "3      0.25  0.5      0.25         5     0.0  2.820312    95.55839   \n",
      "4     0.375  0.5     0.375  2.820312     0.0  1.644043   93.337586   \n",
      "5    0.4375  0.5    0.4375  1.644043     0.0  0.897797   92.227183   \n",
      "6   0.46875  0.5   0.46875  0.897797     0.0  0.469885   91.671982   \n",
      "7  0.484375  0.5  0.484375  0.469885     0.0  0.240437   91.394381   \n",
      "8  0.492188  0.5  0.492188  0.240437     0.0  0.121623   91.255581   \n",
      "\n",
      "                      7  \n",
      "0        Relative Error  \n",
      "1  pas encore de valeur  \n",
      "2                 100.0  \n",
      "3                 100.0  \n",
      "4             33.333333  \n",
      "5             14.285714  \n",
      "6              6.666667  \n",
      "7              3.225806  \n",
      "8              1.587302  \n"
     ]
    }
   ],
   "source": [
    "bisection(0,2,8)\n",
    "\n",
    "\n"
   ]
  },
  {
   "cell_type": "code",
   "execution_count": 5,
   "id": "0a920604",
   "metadata": {},
   "outputs": [],
   "source": [
    "def ffalsePosition(x):\n",
    "    return x**2-18\n",
    "\n",
    "\n",
    "def falsePosition(x_l,x_u,iterations):\n",
    "    Res=[[\"x_l\",\"x_u\",\"x_r\",\"f(x_l)\",\"f(x_u)\",\"f(x_r)\",\"True Error\", \"Relative Error\"]]\n",
    "    fx_l=ffalsePosition(x_l)\n",
    "        \n",
    "        \n",
    "    fx_u=ffalsePosition(x_u)\n",
    "    if fx_l*fx_u >0:\n",
    "            print(\"Il n'y a pas de roots\")\n",
    "    #constantes:\n",
    "    TrueValue=5.628590176     #!!!!!!!écrire la vrai valeur\n",
    "    x_r=-1\n",
    "    for i in range(iterations):\n",
    "        old= x_r\n",
    "        \n",
    "\n",
    "        fx_l=ffalsePosition(x_l)\n",
    "        \n",
    "        \n",
    "        fx_u=ffalsePosition(x_u)\n",
    "        \n",
    "        \n",
    "        x_r=x_u-fx_u*(x_l-x_u)/(fx_l-fx_u)\n",
    "        fx_r=ffalsePosition(x_r)\n",
    "        TrueError=abs((TrueValue-x_r)/TrueValue)*100\n",
    "        \n",
    "        \n",
    "        \n",
    "        if i>=1:\n",
    "            relativeError=abs((x_r-old)/x_r)*100\n",
    "        else:\n",
    "            relativeError=\"pas encore de valeur\"\n",
    "            \n",
    "        Res.append([x_l,x_u,x_r,fx_l,fx_u,fx_r,TrueError,relativeError])\n",
    "        if fx_r*fx_l<0:\n",
    "            x_u=x_r\n",
    "        else:\n",
    "            x_l=x_r\n",
    "            \n",
    "        \n",
    "\n",
    "        \n",
    "    \n",
    "    #Affichage des résultats\n",
    "    df=pd.DataFrame(Res)\n",
    "    print(df)\n",
    "    "
   ]
  },
  {
   "cell_type": "code",
   "execution_count": 6,
   "id": "bff07b40",
   "metadata": {},
   "outputs": [
    {
     "name": "stdout",
     "output_type": "stream",
     "text": [
      "          0    1         2         3       4         5           6  \\\n",
      "0       x_l  x_u       x_r    f(x_l)  f(x_u)    f(x_r)  True Error   \n",
      "1         4    5  4.222222        -2       7  -0.17284   24.986149   \n",
      "2  4.222222    5  4.240964  -0.17284       7 -0.014226   24.653177   \n",
      "3  4.240964    5  4.242503 -0.014226       7 -0.001166   24.625828   \n",
      "4  4.242503    5  4.242629 -0.001166       7 -0.000096   24.623586   \n",
      "5  4.242629    5   4.24264 -0.000096       7 -0.000008   24.623402   \n",
      "6   4.24264    5  4.242641 -0.000008       7 -0.000001   24.623387   \n",
      "\n",
      "                      7  \n",
      "0        Relative Error  \n",
      "1  pas encore de valeur  \n",
      "2              0.441919  \n",
      "3              0.036285  \n",
      "4              0.002974  \n",
      "5              0.000244  \n",
      "6               0.00002  \n"
     ]
    }
   ],
   "source": [
    "\n",
    "falsePosition(4,5,6)\n",
    "\n",
    "\n"
   ]
  },
  {
   "cell_type": "code",
   "execution_count": 7,
   "id": "32797dff",
   "metadata": {},
   "outputs": [],
   "source": [
    "def g(x):\n",
    "    return (x**4-x**2+1)/(-3)\n",
    "\n",
    "def fixedPointIteration(start,iterations):\n",
    "    #Il faut absolument réécrire la fonction !!!!\n",
    "    TrueValue=1 #remplacer par la vrai valeur\n",
    "    Res=[[\"x_r\",\"True Error\",\"Relative Error\",\"f(x)\"]]\n",
    "    Res.append([start,\"None\",\"None\",\"None\"])\n",
    "    \n",
    "    for i in range(iterations):\n",
    "        old=start\n",
    "        start=g(start)\n",
    "        trueError=abs((TrueValue-start)/TrueValue)*100\n",
    "        relativeError= abs((start-old)/start)*100\n",
    "        Res.append([start,trueError,relativeError,start-old])\n",
    "        \"\"\"\n",
    "    if relativeError<=0.01:\n",
    "        print(start)\"\"\"\n",
    "        \n",
    "        \n",
    "    #Affichage des résultats\n",
    "    df=pd.DataFrame(Res)\n",
    "    print(df)\n",
    "        \n",
    "        \n",
    "    "
   ]
  },
  {
   "cell_type": "code",
   "execution_count": 8,
   "id": "8c396a78",
   "metadata": {},
   "outputs": [
    {
     "name": "stdout",
     "output_type": "stream",
     "text": [
      "          0           1               2         3\n",
      "0       x_r  True Error  Relative Error      f(x)\n",
      "1         1        None            None      None\n",
      "2 -0.333333  133.333333           400.0 -1.333333\n",
      "3 -0.300412  130.041152       10.958904  0.032922\n",
      "4 -0.305966  130.596582        1.815332 -0.005554\n",
      "5  -0.30505  130.504957        0.300361  0.000916\n",
      "6 -0.305201  130.520135        0.049731 -0.000152\n",
      "7 -0.305176  130.517622        0.008233  0.000025\n",
      "8  -0.30518  130.518038        0.001363 -0.000004\n",
      "9  -0.30518  130.517969        0.000226  0.000001\n"
     ]
    }
   ],
   "source": [
    "fixedPointIteration(1,8)\n",
    "\n"
   ]
  },
  {
   "cell_type": "code",
   "execution_count": 11,
   "id": "371573e1",
   "metadata": {},
   "outputs": [],
   "source": [
    "def fnewton(x):\n",
    "    return x**x-2*sin(x)\n",
    "def fprimenewton(x):\n",
    "        return (1+Math.ln(x))*x**x-2*cos(x)\n",
    "\n",
    "\n",
    "def newtonRapson(start,iteration):\n",
    "    trueValue=1#Mettre la vrai valeur !!!!!!!\n",
    "    Res=[[\"x\",\"f(x)\",\"f'(x)\",\"True Error\",\"Relative Error\"]]\n",
    "    Res.append([start,fnewton(start),fprimenewton(start),\"Not interresting\", \"None\"])\n",
    "    Y=[]\n",
    "    x=start\n",
    "    old=start\n",
    "    for i in range(iteration):\n",
    "        Y.append(x)\n",
    "        x=x-fnewton(x)/fprimenewton(x)\n",
    "        trueError=abs((trueValue-x)/trueValue)*100\n",
    "        relativeError=abs((x-old)/x)*100\n",
    "        Res.append([x,fnewton(x),fprimenewton(x),trueError,relativeError])\n",
    "        \n",
    "        old=x\n",
    "    #Affichage des résultats\n",
    "    df=pd.DataFrame(Res)\n",
    "    print(df)\n",
    "    X=[i for i in range(iteration)]\n",
    "    plt.plot(X,Y)\n",
    "    plt.show()\n",
    "        \n",
    "        \n",
    "    \n",
    "    "
   ]
  },
  {
   "cell_type": "code",
   "execution_count": 12,
   "id": "df53de8f",
   "metadata": {},
   "outputs": [
    {
     "ename": "NameError",
     "evalue": "name 'sin' is not defined",
     "output_type": "error",
     "traceback": [
      "\u001b[0;31m---------------------------------------------------------------------------\u001b[0m",
      "\u001b[0;31mNameError\u001b[0m                                 Traceback (most recent call last)",
      "\u001b[0;32m/var/folders/30/lz9zm1ns67s_mmrhjn8m17fm0000gn/T/ipykernel_32008/2466781310.py\u001b[0m in \u001b[0;36m<module>\u001b[0;34m\u001b[0m\n\u001b[0;32m----> 1\u001b[0;31m \u001b[0mnewtonRapson\u001b[0m\u001b[0;34m(\u001b[0m\u001b[0;36m10\u001b[0m\u001b[0;34m,\u001b[0m\u001b[0;36m10\u001b[0m\u001b[0;34m)\u001b[0m\u001b[0;34m\u001b[0m\u001b[0;34m\u001b[0m\u001b[0m\n\u001b[0m\u001b[1;32m      2\u001b[0m \u001b[0;34m\u001b[0m\u001b[0m\n",
      "\u001b[0;32m/var/folders/30/lz9zm1ns67s_mmrhjn8m17fm0000gn/T/ipykernel_32008/3747022638.py\u001b[0m in \u001b[0;36mnewtonRapson\u001b[0;34m(start, iteration)\u001b[0m\n\u001b[1;32m      8\u001b[0m     \u001b[0mtrueValue\u001b[0m\u001b[0;34m=\u001b[0m\u001b[0;36m1\u001b[0m\u001b[0;31m#Mettre la vrai valeur !!!!!!!\u001b[0m\u001b[0;34m\u001b[0m\u001b[0;34m\u001b[0m\u001b[0m\n\u001b[1;32m      9\u001b[0m     \u001b[0mRes\u001b[0m\u001b[0;34m=\u001b[0m\u001b[0;34m[\u001b[0m\u001b[0;34m[\u001b[0m\u001b[0;34m\"x\"\u001b[0m\u001b[0;34m,\u001b[0m\u001b[0;34m\"f(x)\"\u001b[0m\u001b[0;34m,\u001b[0m\u001b[0;34m\"f'(x)\"\u001b[0m\u001b[0;34m,\u001b[0m\u001b[0;34m\"True Error\"\u001b[0m\u001b[0;34m,\u001b[0m\u001b[0;34m\"Relative Error\"\u001b[0m\u001b[0;34m]\u001b[0m\u001b[0;34m]\u001b[0m\u001b[0;34m\u001b[0m\u001b[0;34m\u001b[0m\u001b[0m\n\u001b[0;32m---> 10\u001b[0;31m     \u001b[0mRes\u001b[0m\u001b[0;34m.\u001b[0m\u001b[0mappend\u001b[0m\u001b[0;34m(\u001b[0m\u001b[0;34m[\u001b[0m\u001b[0mstart\u001b[0m\u001b[0;34m,\u001b[0m\u001b[0mfnewton\u001b[0m\u001b[0;34m(\u001b[0m\u001b[0mstart\u001b[0m\u001b[0;34m)\u001b[0m\u001b[0;34m,\u001b[0m\u001b[0mfprimenewton\u001b[0m\u001b[0;34m(\u001b[0m\u001b[0mstart\u001b[0m\u001b[0;34m)\u001b[0m\u001b[0;34m,\u001b[0m\u001b[0;34m\"Not interresting\"\u001b[0m\u001b[0;34m,\u001b[0m \u001b[0;34m\"None\"\u001b[0m\u001b[0;34m]\u001b[0m\u001b[0;34m)\u001b[0m\u001b[0;34m\u001b[0m\u001b[0;34m\u001b[0m\u001b[0m\n\u001b[0m\u001b[1;32m     11\u001b[0m     \u001b[0mY\u001b[0m\u001b[0;34m=\u001b[0m\u001b[0;34m[\u001b[0m\u001b[0;34m]\u001b[0m\u001b[0;34m\u001b[0m\u001b[0;34m\u001b[0m\u001b[0m\n\u001b[1;32m     12\u001b[0m     \u001b[0mx\u001b[0m\u001b[0;34m=\u001b[0m\u001b[0mstart\u001b[0m\u001b[0;34m\u001b[0m\u001b[0;34m\u001b[0m\u001b[0m\n",
      "\u001b[0;32m/var/folders/30/lz9zm1ns67s_mmrhjn8m17fm0000gn/T/ipykernel_32008/3747022638.py\u001b[0m in \u001b[0;36mfnewton\u001b[0;34m(x)\u001b[0m\n\u001b[1;32m      1\u001b[0m \u001b[0;32mdef\u001b[0m \u001b[0mfnewton\u001b[0m\u001b[0;34m(\u001b[0m\u001b[0mx\u001b[0m\u001b[0;34m)\u001b[0m\u001b[0;34m:\u001b[0m\u001b[0;34m\u001b[0m\u001b[0;34m\u001b[0m\u001b[0m\n\u001b[0;32m----> 2\u001b[0;31m     \u001b[0;32mreturn\u001b[0m \u001b[0mx\u001b[0m\u001b[0;34m**\u001b[0m\u001b[0mx\u001b[0m\u001b[0;34m-\u001b[0m\u001b[0;36m2\u001b[0m\u001b[0;34m*\u001b[0m\u001b[0msin\u001b[0m\u001b[0;34m(\u001b[0m\u001b[0mx\u001b[0m\u001b[0;34m)\u001b[0m\u001b[0;34m\u001b[0m\u001b[0;34m\u001b[0m\u001b[0m\n\u001b[0m\u001b[1;32m      3\u001b[0m \u001b[0;32mdef\u001b[0m \u001b[0mfprimenewton\u001b[0m\u001b[0;34m(\u001b[0m\u001b[0mx\u001b[0m\u001b[0;34m)\u001b[0m\u001b[0;34m:\u001b[0m\u001b[0;34m\u001b[0m\u001b[0;34m\u001b[0m\u001b[0m\n\u001b[1;32m      4\u001b[0m         \u001b[0;32mreturn\u001b[0m \u001b[0;34m(\u001b[0m\u001b[0;36m1\u001b[0m\u001b[0;34m+\u001b[0m\u001b[0mMath\u001b[0m\u001b[0;34m.\u001b[0m\u001b[0mln\u001b[0m\u001b[0;34m(\u001b[0m\u001b[0mx\u001b[0m\u001b[0;34m)\u001b[0m\u001b[0;34m)\u001b[0m\u001b[0;34m*\u001b[0m\u001b[0mx\u001b[0m\u001b[0;34m**\u001b[0m\u001b[0mx\u001b[0m\u001b[0;34m-\u001b[0m\u001b[0;36m2\u001b[0m\u001b[0;34m*\u001b[0m\u001b[0mcos\u001b[0m\u001b[0;34m(\u001b[0m\u001b[0mx\u001b[0m\u001b[0;34m)\u001b[0m\u001b[0;34m\u001b[0m\u001b[0;34m\u001b[0m\u001b[0m\n\u001b[1;32m      5\u001b[0m \u001b[0;34m\u001b[0m\u001b[0m\n",
      "\u001b[0;31mNameError\u001b[0m: name 'sin' is not defined"
     ]
    }
   ],
   "source": [
    "newtonRapson(10,10)\n",
    "\n"
   ]
  },
  {
   "cell_type": "code",
   "execution_count": 59,
   "id": "751227da",
   "metadata": {},
   "outputs": [],
   "source": [
    "def fsecant(x):\n",
    "    return 2.1*x**3-11.6*x**2+17.5*x-6\n",
    "\n",
    "\n",
    "def secant(x1,x2,iteration):\n",
    "    trueValue=1#Mettre la vrai valeur !!!!!!!\n",
    "    Res=[[\"xi\",\"xi-1\",\"f(xi)\",\"f(xi-1)\",\"around f'(xi)\",\"True Error\",\"Relative Error\"]]\n",
    "    Res.append([x2,x1,fsecant(x2),fsecant(x1),(fsecant(x1)-fsecant(x2))/(x1-x2),\"Not interesting\", \"None\"])\n",
    "    for i in range(iteration):\n",
    "        x2copy=x2\n",
    "        fprimex2=(fsecant(x2)-fsecant(x1))/(x2-x1)\n",
    "        \n",
    "        \n",
    "        x2=x2-f(x2)/fprimex2\n",
    "        \n",
    "        x1=x2copy\n",
    "        \n",
    "        Res.append([x2,x1,fsecant(x2),fsecant(x1),(fsecant(x1)-fsecant(x2))/(x1-x2),abs(x2-trueValue)/trueValue*100, (x2-x1)/x2*100])\n",
    "    \n",
    "    \n",
    "       \n",
    "        \n",
    "        \n",
    "        \n",
    "    #Affichage des résultats\n",
    "    df=pd.DataFrame(Res)\n",
    "    print(df)\n",
    "    \n",
    "    \n",
    "        \n",
    "    \n",
    "    "
   ]
  },
  {
   "cell_type": "code",
   "execution_count": 60,
   "id": "5fb468c4",
   "metadata": {},
   "outputs": [
    {
     "name": "stdout",
     "output_type": "stream",
     "text": [
      "14.0\n",
      "20.481249999999992\n",
      "12.539155116590077\n",
      "          0         1         2         3              4                5  \\\n",
      "0        xi      xi-1     f(xi)   f(xi-1)  around f'(xi)       True Error   \n",
      "1         4         3      12.8      -1.2           14.0  Not interesting   \n",
      "2  3.607143         4  4.753795      12.8       20.48125       260.714286   \n",
      "3  3.297091  3.607143  0.866003  4.753795      12.539155       229.709073   \n",
      "4  2.747569  3.297091 -1.929795  0.866003       5.087696       174.756939   \n",
      "\n",
      "                6  \n",
      "0  Relative Error  \n",
      "1            None  \n",
      "2      -10.891089  \n",
      "3       -9.403809  \n",
      "4      -20.000272  \n"
     ]
    }
   ],
   "source": [
    "secant(3,4,3)\n"
   ]
  },
  {
   "cell_type": "code",
   "execution_count": 13,
   "id": "4d51cae9",
   "metadata": {},
   "outputs": [],
   "source": [
    "def fmodifiedSecant(x):\n",
    "    return x**x-2*math.sin(x)\n",
    "\n",
    "\n",
    "def modifiedSecant(start,iteration,dx):\n",
    "    trueValue=1#Mettre la vrai valeur !!!!!!!\n",
    "    Res=[[\"x\",\"f(x)\",\"f(x+di)\",\"around f'(x)\",\"True Error\",\"Relative Error\"]]\n",
    "    Res.append([start,fmodifiedSecant(start),fmodifiedSecant(start+dx),(fmodifiedSecant(start)-fmodifiedSecant(start+dx))/dx,\"Not interresting\",\"None\"])\n",
    "    \n",
    "    Y=[]\n",
    "    x=start\n",
    "    old=start\n",
    "    for i in range(iteration):\n",
    "        Y.append(x)\n",
    "        x=x-fmodifiedSecant(x)*dx/(fmodifiedSecant(x+dx)-fmodifiedSecant(x))\n",
    "        trueError=abs((trueValue-x)/trueValue)*100\n",
    "        relativeError=abs((x-old)/x)*100\n",
    "        Res.append([x,fmodifiedSecant(x),fmodifiedSecant(x+dx),(fmodifiedSecant(x+dx)-fmodifiedSecant(x))/dx,trueError,relativeError])\n",
    "        \n",
    "        old=x\n",
    "    #Affichage des résultats\n",
    "    df=pd.DataFrame(Res)\n",
    "    print(df)\n",
    "    X=[i for i in range(iteration)]\n",
    "    plt.plot(X,Y)\n",
    "    plt.show()\n",
    "    "
   ]
  },
  {
   "cell_type": "code",
   "execution_count": 16,
   "id": "e27ed1da",
   "metadata": {},
   "outputs": [
    {
     "name": "stdout",
     "output_type": "stream",
     "text": [
      "           0         1         2             3                 4  \\\n",
      "0          x      f(x)   f(x+di)  around f'(x)        True Error   \n",
      "1        0.2  0.327441  0.303633       2.38076  Not interresting   \n",
      "2   0.337536  0.030765  0.011433     -1.933282         66.246367   \n",
      "3    0.35345  0.000126 -0.018783     -1.890875         64.655013   \n",
      "4   0.353517 -0.000001 -0.018908     -1.890699         64.648339   \n",
      "5   0.353516       0.0 -0.018907       -1.8907         64.648385   \n",
      "6   0.353516      -0.0 -0.018907       -1.8907         64.648384   \n",
      "7   0.353516       0.0 -0.018907       -1.8907         64.648384   \n",
      "8   0.353516      -0.0 -0.018907       -1.8907         64.648384   \n",
      "9   0.353516       0.0 -0.018907       -1.8907         64.648384   \n",
      "10  0.353516       0.0 -0.018907       -1.8907         64.648384   \n",
      "\n",
      "                 5  \n",
      "0   Relative Error  \n",
      "1             None  \n",
      "2        40.747119  \n",
      "3         4.502347  \n",
      "4         0.018881  \n",
      "5         0.000131  \n",
      "6         0.000001  \n",
      "7              0.0  \n",
      "8              0.0  \n",
      "9              0.0  \n",
      "10             0.0  \n"
     ]
    },
    {
     "data": {
      "image/png": "[encoded data removed]",
      "text/plain": [
       "<Figure size 432x288 with 1 Axes>"
      ]
     },
     "metadata": {
      "needs_background": "light"
     },
     "output_type": "display_data"
    },
    {
     "name": "stdout",
     "output_type": "stream",
     "text": [
      "-0.01228900493743501\n"
     ]
    }
   ],
   "source": [
    "modifiedSecant(0.2,9,0.01)\n",
    "print(0.36**0.36-2*math.sin(0.36))"
   ]
  }
 ],
 "metadata": {
  "kernelspec": {
   "display_name": "Python 3 (ipykernel)",
   "language": "python",
   "name": "python3"
  },
  "language_info": {
   "codemirror_mode": {
    "name": "ipython",
    "version": 3
   },
   "file_extension": ".py",
   "mimetype": "text/x-python",
   "name": "python",
   "nbconvert_exporter": "python",
   "pygments_lexer": "ipython3",
   "version": "3.9.7"
  }
 },
 "nbformat": 4,
 "nbformat_minor": 5
}
